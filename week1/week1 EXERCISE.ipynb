{
 "cells": [
  {
   "cell_type": "markdown",
   "id": "fe12c203-e6a6-452c-a655-afb8a03a4ff5",
   "metadata": {},
   "source": [
    "# End of week 1 exercise\n",
    "\n",
    "To demonstrate your familiarity with OpenAI API, and also Ollama, build a tool that takes a technical question,  \n",
    "and responds with an explanation. This is a tool that you will be able to use yourself during the course!"
   ]
  },
  {
   "cell_type": "code",
   "execution_count": 11,
   "id": "c1070317-3ed9-4659-abe3-828943230e03",
   "metadata": {},
   "outputs": [
    {
     "data": {
      "text/plain": [
       "True"
      ]
     },
     "execution_count": 11,
     "metadata": {},
     "output_type": "execute_result"
    }
   ],
   "source": [
    "# imports\n",
    "\n",
    "from openai import OpenAI\n",
    "from dotenv import load_dotenv\n",
    "import os\n",
    "from IPython.display import Markdown, update_display\n",
    "\n",
    "load_dotenv()\n"
   ]
  },
  {
   "cell_type": "code",
   "execution_count": 2,
   "id": "4a456906-915a-4bfd-bb9d-57e505c5093f",
   "metadata": {},
   "outputs": [],
   "source": [
    "# constants\n",
    "\n",
    "MODEL_GPT = 'gpt-4o-mini'\n",
    "MODEL_LLAMA = 'llama3.2'"
   ]
  },
  {
   "cell_type": "code",
   "execution_count": 4,
   "id": "a8d7923c-5f28-4c30-8556-342d7c8497c1",
   "metadata": {},
   "outputs": [],
   "source": [
    "# set up environment\n",
    "\n",
    "client = OpenAI(base_url='https://api.deepseek.com', api_key=os.getenv('DEEPSEEK_API_KEY'))"
   ]
  },
  {
   "cell_type": "code",
   "execution_count": 5,
   "id": "3f0d0137-52b0-47a8-81a8-11a90a010798",
   "metadata": {},
   "outputs": [],
   "source": [
    "# here is the question; type over this to ask something new\n",
    "\n",
    "question = \"\"\"\n",
    "Please explain what this code does and why:\n",
    "yield from {book.get(\"author\") for book in books if book.get(\"author\")}\n",
    "\"\"\""
   ]
  },
  {
   "cell_type": "code",
   "execution_count": 10,
   "id": "60ce7000-a4a5-4cce-a261-e75ef45063b4",
   "metadata": {},
   "outputs": [
    {
     "data": {
      "text/markdown": [
       "This code uses a generator expression with `yield from` to yield all unique authors from a list of books where the author field exists and is non-empty. Let's break it down:\n",
       "\n",
       "1. `{book.get(\"author\") for book in books if book.get(\"author\")}` is a set comprehension that:\n",
       "   - Iterates through each `book` in the `books` list\n",
       "   - Uses `book.get(\"author\")` to safely get the \"author\" field (returns None if key doesn't exist)\n",
       "   - Only includes authors that are truthy (not None, empty string, etc.) due to the `if` condition\n",
       "   - Creates a set (which automatically deduplicates authors)\n",
       "\n",
       "2. `yield from` then takes this set of unique authors and yields each one individually from the generator.\n",
       "\n",
       "So the overall effect is that this code will produce a generator that yields each unique author name from the books list, skipping any books that don't have an author specified.\n",
       "\n",
       "Example:\n",
       "python\n",
       "books = [\n",
       "    {\"title\": \"Book1\", \"author\": \"AuthorA\"},\n",
       "    {\"title\": \"Book2\", \"author\": \"AuthorB\"},\n",
       "    {\"title\": \"Book3\"},  # no author\n",
       "    {\"title\": \"Book4\", \"author\": \"AuthorA\"},  # duplicate author\n",
       "    {\"title\": \"Book5\", \"author\": \"\"},  # empty author\n",
       "]\n",
       "\n",
       "def get_authors(books):\n",
       "    yield from {book.get(\"author\") for book in books if book.get(\"author\")}\n",
       "\n",
       "list(get_authors(books))  # Returns ['AuthorA', 'AuthorB']\n",
       "\n",
       "\n",
       "Note: Using a set means the order of authors is not preserved. If order matters, you could use a dict or list comprehension instead."
      ],
      "text/plain": [
       "<IPython.core.display.Markdown object>"
      ]
     },
     "metadata": {},
     "output_type": "display_data"
    }
   ],
   "source": [
    "# Get gpt-4o-mini to answer, with streaming\n",
    "\n",
    "stream = client.chat.completions.create(\n",
    "    model='deepseek-chat',\n",
    "    messages=[\n",
    "        {\"role\": \"system\", \"content\": \"You are a helpful assistant that can answer questions about the code.\"},\n",
    "        {\"role\": \"user\", \"content\": question}\n",
    "    ],\n",
    "    stream=True\n",
    ")\n",
    "\n",
    "response = \"\"\n",
    "display_handle = display(Markdown(\"\"), display_id=True)\n",
    "for chunk in stream:\n",
    "    response += chunk.choices[0].delta.content or ''\n",
    "    response = response.replace(\"```\",\"\").replace(\"markdown\", \"\")\n",
    "    update_display(Markdown(response), display_id=display_handle.display_id)"
   ]
  },
  {
   "cell_type": "code",
   "execution_count": 13,
   "id": "8f7c8ea8-4082-4ad0-8751-3301adcf6538",
   "metadata": {},
   "outputs": [
    {
     "name": "stdout",
     "output_type": "stream",
     "text": [
      "This line of code uses a combination of Python's `yield` keyword, `from` keyword, dictionary (`dict`), list (`list`), and conditional expressions.\n",
      "\n",
      "Here's a breakdown:\n",
      "\n",
      "- **`yield from`**: This syntax was introduced in Python 3.3 as part of PEP 405 (Yield From Expression). It allows you to yield values from another iterable or generator, which is more memory-efficient than creating a new list and returning it explicitly.\n",
      "\n",
      "- `{book.get(\"author\") for book in books if book.get(\"author\")}`: This is a dictionary comprehension generator expression. \n",
      "\n",
      "    - `for book in books`: Iterates through each item (`book`) in the 'books' iterable.\n",
      "    \n",
      "    - `if book.get(\"author\")`: Applies a condition to only include items where `'author'` key exists and has a non-empty value.\n",
      "\n",
      "- `yield from {expression}`: When used with dictionary comprehension generators, it yields values in an efficient manner rather than returning them as a whole list (which would consume significant memory when dealing with large datasets).\n",
      "\n",
      "\n",
      "In summary, when you put these two together, the code:\n",
      "\n",
      "1. Iterates over each book.\n",
      "2. Checks if 'author' key exists and is non-empty for each book.\n",
      "3. Yields (not returns) only the value of the `'author'` key that passes the above check.\n",
      "\n",
      "This can be used in a situation where you're collecting information about books from multiple sources, or if each source could send data one by one.\n",
      "\n",
      "\n",
      "Here's an example to illustrate its usage:\n",
      "\n",
      "Let say we've got a list of book objects, and each object has `author` key. The code below does the following:\n",
      "```python\n",
      "books = [\n",
      "    {\"title\": \"Python Cookbook\", \"author\": \"John Smith\"},\n",
      "    {'title': 'HTML Web Development',\n",
      "     'subject': 'Web development', },\n",
      "    # ...\n",
      "]\n",
      "\n",
      "for author in yield from {book.get(\"author\") for book in books if book.get(\"author\")}:\n",
      "    print(author)\n",
      "```\n",
      "This will output:\n",
      "```python\n",
      "John Smith\n",
      "```\n"
     ]
    }
   ],
   "source": [
    "# Get Llama 3.2 to answer\n",
    "ollama_via_openai = OpenAI(base_url='http://localhost:11434/v1', api_key='ollama')\n",
    "\n",
    "messages = [\n",
    "    {\"role\": \"user\", \"content\": question}\n",
    "]\n",
    "\n",
    "response = ollama_via_openai.chat.completions.create(\n",
    "    model='llama3.2',\n",
    "    messages=messages\n",
    ")\n",
    "\n",
    "print(response.choices[0].message.content)"
   ]
  }
 ],
 "metadata": {
  "kernelspec": {
   "display_name": "llms",
   "language": "python",
   "name": "python3"
  },
  "language_info": {
   "codemirror_mode": {
    "name": "ipython",
    "version": 3
   },
   "file_extension": ".py",
   "mimetype": "text/x-python",
   "name": "python",
   "nbconvert_exporter": "python",
   "pygments_lexer": "ipython3",
   "version": "3.11.12"
  }
 },
 "nbformat": 4,
 "nbformat_minor": 5
}
